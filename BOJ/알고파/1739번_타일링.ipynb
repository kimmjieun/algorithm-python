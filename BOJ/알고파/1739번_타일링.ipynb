{
  "nbformat": 4,
  "nbformat_minor": 0,
  "metadata": {
    "colab": {
      "name": "1739번 타일링.ipynb",
      "provenance": []
    },
    "kernelspec": {
      "name": "python3",
      "display_name": "Python 3"
    }
  },
  "cells": [
    {
      "cell_type": "code",
      "metadata": {
        "id": "RjjQG-AfLLZ4"
      },
      "source": [
        "def cnt(n):\r\n",
        "  fib=[0 for _ in range(n+1)]\r\n",
        "  if n ==0 or n==1:\r\n",
        "    return 1\r\n",
        "\r\n",
        "  fib[0]=1\r\n",
        "  fib[1]=1\r\n",
        "  for i in range(2,n+1):\r\n",
        "    fib[i]=fib[i-1]+2*fib[i-2]\r\n",
        "  return fib[n]\r\n",
        "\r\n",
        "\r\n",
        "while True:\r\n",
        "    try:\r\n",
        "        print(cnt(int(input())))\r\n",
        "    except:\r\n",
        "        break"
      ],
      "execution_count": null,
      "outputs": []
    },
    {
      "cell_type": "code",
      "metadata": {
        "id": "6GEoi5k6OBGp"
      },
      "source": [
        ""
      ],
      "execution_count": null,
      "outputs": []
    }
  ]
}