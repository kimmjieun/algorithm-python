{
  "nbformat": 4,
  "nbformat_minor": 0,
  "metadata": {
    "colab": {
      "name": "2003번 수들의 합2.ipynb",
      "provenance": []
    },
    "kernelspec": {
      "name": "python3",
      "display_name": "Python 3"
    }
  },
  "cells": [
    {
      "cell_type": "code",
      "metadata": {
        "id": "Y9KgGWq7Xpo1"
      },
      "source": [
        "n,m = map(int, input().split())\r\n",
        "A=list(map(int, input().split()))\r\n",
        "start=0\r\n",
        "answer=0\r\n",
        "end=0\r\n",
        "while start <=end and end<=len(A):\r\n",
        "    summ = sum(A[start:end])\r\n",
        "    if summ==m:\r\n",
        "        answer+=1\r\n",
        "    if summ<=m:\r\n",
        "        end+=1\r\n",
        "        continue\r\n",
        "    elif summ>m and start<end:\r\n",
        "        start+=1\r\n",
        "        continue\r\n",
        "    else:\r\n",
        "        start+=1\r\n",
        "        end+=1\r\n",
        "print(answer)"
      ],
      "execution_count": null,
      "outputs": []
    },
    {
      "cell_type": "code",
      "metadata": {
        "id": "gpa2onZZopkh"
      },
      "source": [
        "https://kils-log-of-develop.tistory.com/370"
      ],
      "execution_count": null,
      "outputs": []
    }
  ]
}