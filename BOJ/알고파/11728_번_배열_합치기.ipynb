{
  "nbformat": 4,
  "nbformat_minor": 0,
  "metadata": {
    "colab": {
      "name": "11728 번 배열 합치기.ipynb",
      "provenance": [],
      "collapsed_sections": []
    },
    "kernelspec": {
      "name": "python3",
      "display_name": "Python 3"
    }
  },
  "cells": [
    {
      "cell_type": "code",
      "metadata": {
        "id": "fd9UnsAMEW14"
      },
      "source": [
        "\r\n",
        "N,M = map(int,input().split())\r\n",
        "\r\n",
        "arr1 = list(map(int, input().split()))\r\n",
        "arr2 = list(map(int, input().split()))\r\n",
        "arrays = arr1+arr2\r\n",
        "arrays.sort(reverse=False)\r\n",
        "for i in arrays:\r\n",
        "  print( i, end=' ')\r\n"
      ],
      "execution_count": null,
      "outputs": []
    }
  ]
}