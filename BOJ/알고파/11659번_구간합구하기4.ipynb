{
  "nbformat": 4,
  "nbformat_minor": 0,
  "metadata": {
    "colab": {
      "name": "11659번 구간합구하기4.ipynb",
      "provenance": []
    },
    "kernelspec": {
      "name": "python3",
      "display_name": "Python 3"
    }
  },
  "cells": [
    {
      "cell_type": "code",
      "metadata": {
        "id": "twBYNJquNwTv"
      },
      "source": [
        "import sys\r\n",
        "input = sys.stdin.readline\r\n",
        "\r\n",
        "n, m = map(int, input().split())\r\n",
        "nums = list(map(int, input().split()))\r\n",
        "nums_add = [0]\r\n",
        "for i in range(n):\r\n",
        "    nums_add.append(nums_add[-1]+nums[i])\r\n",
        "for _ in range(m):\r\n",
        "    i, j = map(int, input().split())\r\n",
        "    if i == 1:\r\n",
        "        print(nums_add[j])\r\n",
        "    else:\r\n",
        "        print(nums_add[j]-nums_add[i-1])"
      ],
      "execution_count": null,
      "outputs": []
    }
  ]
}