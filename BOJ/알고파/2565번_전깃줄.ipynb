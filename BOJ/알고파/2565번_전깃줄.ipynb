{
  "nbformat": 4,
  "nbformat_minor": 0,
  "metadata": {
    "colab": {
      "name": "2565번 전깃줄.ipynb",
      "provenance": []
    },
    "kernelspec": {
      "name": "python3",
      "display_name": "Python 3"
    }
  },
  "cells": [
    {
      "cell_type": "code",
      "metadata": {
        "id": "17lE5uMyAdyX"
      },
      "source": [
        "n = int(input())\r\n",
        "\r\n",
        "line=[list(map(int,input().split())) for _ in range(n)]\r\n",
        "line.sort(key=lambda x :x[0])\r\n",
        "dp=[0]*501\r\n",
        "\r\n",
        "for s, d in line:\r\n",
        "  dp[d]=max(dp[:d])+1\r\n",
        "\r\n",
        "print(n-max(dp))\r\n"
      ],
      "execution_count": null,
      "outputs": []
    },
    {
      "cell_type": "code",
      "metadata": {
        "id": "YPJ7zL98HEzd"
      },
      "source": [
        ""
      ],
      "execution_count": null,
      "outputs": []
    }
  ]
}