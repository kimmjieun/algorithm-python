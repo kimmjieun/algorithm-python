{
  "nbformat": 4,
  "nbformat_minor": 0,
  "metadata": {
    "colab": {
      "name": "1단계 입출력과 사칙연산.ipynb",
      "provenance": [],
      "collapsed_sections": []
    },
    "kernelspec": {
      "name": "python3",
      "display_name": "Python 3"
    }
  },
  "cells": [
    {
      "cell_type": "code",
      "metadata": {
        "id": "5cpmSeppluaB",
        "colab": {
          "base_uri": "https://localhost:8080/"
        },
        "outputId": "cfa58414-2be2-4da5-f633-f444875e8458"
      },
      "source": [
        "#2557번 Hello World\r\n",
        "print('Hello World!')"
      ],
      "execution_count": 1,
      "outputs": [
        {
          "output_type": "stream",
          "text": [
            "Hello World!\n"
          ],
          "name": "stdout"
        }
      ]
    },
    {
      "cell_type": "code",
      "metadata": {
        "colab": {
          "base_uri": "https://localhost:8080/"
        },
        "id": "hNJzT594zFhJ",
        "outputId": "b83c9d0d-c57b-4e66-9c4b-a3750fbe1d85"
      },
      "source": [
        "#10718번 We love kriii\r\n",
        "print('강한친구 대한육군')\r\n",
        "print('강한친구 대한육군')"
      ],
      "execution_count": 2,
      "outputs": [
        {
          "output_type": "stream",
          "text": [
            "강한친구 대한육군\n",
            "강한친구 대한육군\n"
          ],
          "name": "stdout"
        }
      ]
    },
    {
      "cell_type": "code",
      "metadata": {
        "colab": {
          "base_uri": "https://localhost:8080/"
        },
        "id": "NaF3-tVzzaIT",
        "outputId": "687b4944-6353-4425-f0fd-5079a9ec1aac"
      },
      "source": [
        "#10171번 고양이\r\n",
        "print('\\\\    /\\\\')\r\n",
        "print(' )  ( \\')')\r\n",
        "print('(  /  )')\r\n",
        "print(' \\\\(__)|')"
      ],
      "execution_count": 4,
      "outputs": [
        {
          "output_type": "stream",
          "text": [
            "\\    /\\\n",
            " )  ( ')\n",
            "(  /  )\n",
            " \\(__)|\n"
          ],
          "name": "stdout"
        }
      ]
    },
    {
      "cell_type": "code",
      "metadata": {
        "colab": {
          "base_uri": "https://localhost:8080/"
        },
        "id": "0fbXAYoQz3sD",
        "outputId": "69b6af2c-752c-4da7-aabd-75f7d9608c52"
      },
      "source": [
        "#10172번 개\r\n",
        "print('|\\\\_/|')\r\n",
        "print('|q p|   /}')\r\n",
        "print('( 0 )\\\"\\\"\\\"\\\\')\r\n",
        "print('|\\\"^\\\"`    |')\r\n",
        "print('||_/=\\\\\\\\__|')"
      ],
      "execution_count": 5,
      "outputs": [
        {
          "output_type": "stream",
          "text": [
            "|\\_/|\n",
            "|q p|   /}\n",
            "( 0 )\"\"\"\\\n",
            "|\"^\"`    |\n",
            "||_/=\\\\__|\n"
          ],
          "name": "stdout"
        }
      ]
    },
    {
      "cell_type": "code",
      "metadata": {
        "colab": {
          "base_uri": "https://localhost:8080/"
        },
        "id": "KkccJ7Yb0dN2",
        "outputId": "39c6503e-3349-49a8-b3ec-1a8d8a2493de"
      },
      "source": [
        "#1000번 A+B\r\n",
        "a, b = map(int,input().split()) \r\n",
        "print(a+b)"
      ],
      "execution_count": 9,
      "outputs": [
        {
          "output_type": "stream",
          "text": [
            "1 2\n",
            "3\n"
          ],
          "name": "stdout"
        }
      ]
    },
    {
      "cell_type": "code",
      "metadata": {
        "colab": {
          "base_uri": "https://localhost:8080/"
        },
        "id": "GQDVc84A1K-c",
        "outputId": "0c254532-3bcf-4d24-98d4-97e01c7d5703"
      },
      "source": [
        "#1001번 A-B\r\n",
        "a, b = map(int,input().split()) \r\n",
        "print(a-b)"
      ],
      "execution_count": 10,
      "outputs": [
        {
          "output_type": "stream",
          "text": [
            "3 2\n",
            "1\n"
          ],
          "name": "stdout"
        }
      ]
    },
    {
      "cell_type": "code",
      "metadata": {
        "colab": {
          "base_uri": "https://localhost:8080/"
        },
        "id": "Ek27Xupq1iHt",
        "outputId": "6267ae49-bdbf-422b-b904-88624da2f62b"
      },
      "source": [
        "#109998번 A×B\r\n",
        "a, b = map(int,input().split()) \r\n",
        "print(a*b)"
      ],
      "execution_count": 11,
      "outputs": [
        {
          "output_type": "stream",
          "text": [
            "3 4\n",
            "12\n"
          ],
          "name": "stdout"
        }
      ]
    },
    {
      "cell_type": "code",
      "metadata": {
        "colab": {
          "base_uri": "https://localhost:8080/"
        },
        "id": "_20ezFsW1-va",
        "outputId": "64125764-488c-427a-eeb5-b200bea0025c"
      },
      "source": [
        "#1008번 A/B\r\n",
        "a, b = map(int,input().split()) \r\n",
        "print(a/b)"
      ],
      "execution_count": 12,
      "outputs": [
        {
          "output_type": "stream",
          "text": [
            "4 5\n",
            "0.8\n"
          ],
          "name": "stdout"
        }
      ]
    },
    {
      "cell_type": "code",
      "metadata": {
        "colab": {
          "base_uri": "https://localhost:8080/"
        },
        "id": "tCSWSppu2UgV",
        "outputId": "0e64abbe-190b-4c27-9425-4dfd62f4acd7"
      },
      "source": [
        "#10869번 사칙연산\r\n",
        "a, b = map(int,input().split()) \r\n",
        "print(a+b)\r\n",
        "print(a-b)\r\n",
        "print(a*b)\r\n",
        "print(int(a/b)) # 소수점 버리기 가능 \r\n",
        "print(a%b)"
      ],
      "execution_count": 17,
      "outputs": [
        {
          "output_type": "stream",
          "text": [
            "7 3\n",
            "10\n",
            "4\n",
            "21\n",
            "2\n",
            "1\n"
          ],
          "name": "stdout"
        }
      ]
    },
    {
      "cell_type": "code",
      "metadata": {
        "colab": {
          "base_uri": "https://localhost:8080/"
        },
        "id": "5Z5zAA-N2rX-",
        "outputId": "47f0e482-50d7-4260-d6d1-90836851ac39"
      },
      "source": [
        "#10430번 나머지\r\n",
        "A, B, C = map(int,input().split()) \r\n",
        "print((A+B)%C)\r\n",
        "print(((A%C) + (B%C))%C)\r\n",
        "print((A*B)%C)\r\n",
        "print(((A%C) * (B%C))%C)\r\n"
      ],
      "execution_count": 16,
      "outputs": [
        {
          "output_type": "stream",
          "text": [
            "5 8 4\n",
            "1\n",
            "1\n",
            "0\n",
            "0\n"
          ],
          "name": "stdout"
        }
      ]
    },
    {
      "cell_type": "code",
      "metadata": {
        "colab": {
          "base_uri": "https://localhost:8080/"
        },
        "id": "F6j2FsAt3OHB",
        "outputId": "a76b05a0-df47-490f-bdb5-511ac395fe73"
      },
      "source": [
        "#2588번 곱셈\r\n",
        "A = int(input())\r\n",
        "B = input()\r\n",
        "\r\n",
        "print(A*int(B[2]))\r\n",
        "print(A*int(B[1]))\r\n",
        "print(A*int(B[0]))\r\n",
        "print(A*int(B[2])+A*int(B[1])*10+A*int(B[0])*100)"
      ],
      "execution_count": 22,
      "outputs": [
        {
          "output_type": "stream",
          "text": [
            "472\n",
            "385\n",
            "2360\n",
            "3776\n",
            "1416\n",
            "181720\n"
          ],
          "name": "stdout"
        }
      ]
    },
    {
      "cell_type": "code",
      "metadata": {
        "id": "ZvLaLjHN3_Jm"
      },
      "source": [
        ""
      ],
      "execution_count": null,
      "outputs": []
    }
  ]
}