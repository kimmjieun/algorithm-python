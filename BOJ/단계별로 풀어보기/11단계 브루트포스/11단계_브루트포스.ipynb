{
  "nbformat": 4,
  "nbformat_minor": 0,
  "metadata": {
    "colab": {
      "name": "11단계 브루트포스.ipynb",
      "provenance": []
    },
    "kernelspec": {
      "name": "python3",
      "display_name": "Python 3"
    }
  },
  "cells": [
    {
      "cell_type": "code",
      "metadata": {
        "id": "QoC0cV5s35Ok"
      },
      "source": [
        "#2798번 블랙잭\r\n",
        "n,m = map(int,input().split())\r\n",
        "a=list(map(int,input().split()))\r\n",
        "b=len(a)\r\n",
        "sum=0\r\n",
        "for i in range(0,b-2):\r\n",
        "  for j in range(i+1,b-1):\r\n",
        "    for k in range(j+1,b):\r\n",
        "      if a[i]+a[j]+a[k]>m:\r\n",
        "        continue\r\n",
        "      else:\r\n",
        "        sum = max(sum,a[i]+a[j]+a[k])\r\n",
        "print(sum)"
      ],
      "execution_count": null,
      "outputs": []
    },
    {
      "cell_type": "code",
      "metadata": {
        "id": "Fxh-pjzeCJTt"
      },
      "source": [
        "#2231번 분해합 \r\n",
        "n=int(input())\r\n",
        "x=0\r\n",
        "for i in range(1,n+1):\r\n",
        "  a=list(map(int,str(i)))\r\n",
        "  s=i+sum(a)\r\n",
        "  if s==n:\r\n",
        "    x=i\r\n",
        "    break\r\n",
        "print(x)"
      ],
      "execution_count": null,
      "outputs": []
    },
    {
      "cell_type": "code",
      "metadata": {
        "id": "S3grhQZSoJf_"
      },
      "source": [
        "#7568번 덩치\r\n",
        "n = int(input())\r\n",
        "man=[]\r\n",
        "for _ in range(n):\r\n",
        "  man.append(list(map(int,input().split())))\r\n",
        "\r\n",
        "man_len=len(man)\r\n",
        "\r\n",
        "seq=[]\r\n",
        "for i in range(man_len):\r\n",
        "  cnt = 1\r\n",
        "  for j in range(man_len):\r\n",
        "    if man[i][0] < man[j][0] and man[i][1] < man[j][1]:\r\n",
        "      cnt+=1\r\n",
        "  seq.append(cnt)\r\n",
        "for i in seq:\r\n",
        "  print(i,end=' ')\r\n"
      ],
      "execution_count": null,
      "outputs": []
    },
    {
      "cell_type": "code",
      "metadata": {
        "id": "ubbjNzs5obxt"
      },
      "source": [
        "#1018번 체스판 다시 칠하기 \r\n",
        "n, m = map(int, input().split())\r\n",
        "l = []\r\n",
        "mini = []\r\n",
        "\r\n",
        "for _ in range(n):\r\n",
        "    l.append(input())\r\n",
        "\r\n",
        "for a in range(n - 7):\r\n",
        "    for i in range(m - 7):\r\n",
        "        idx1 = 0\r\n",
        "        idx2 = 0\r\n",
        "        for b in range(a, a + 8):\r\n",
        "            for j in range(i, i + 8):              # 8X8 범위를 B와 W로 번갈아가면서 검사\r\n",
        "                if (j + b)%2 == 0:\r\n",
        "                    if l[b][j] != 'W': idx1 += 1  \r\n",
        "                    if l[b][j] != 'B': idx2 += 1\r\n",
        "                else :\r\n",
        "                    if l[b][j] != 'B': idx1 += 1\r\n",
        "                    if l[b][j] != 'W': idx2 += 1\r\n",
        "        mini.append(idx1)                          # W로 시작했을 때 칠해야 할 부분\r\n",
        "        mini.append(idx2)                          # B로 시작했을 때 칠해야 할 부분\r\n",
        "\r\n",
        "print(min(mini))                                   # 칠해야 하는 개수의 최소값"
      ],
      "execution_count": null,
      "outputs": []
    },
    {
      "cell_type": "code",
      "metadata": {
        "id": "T8NQ1ng-uhtK"
      },
      "source": [
        "#1436번 영화감독 숌 -뭐지 \r\n",
        "n=int(input())\r\n",
        "m=666\r\n",
        "while(n):\r\n",
        "  if '666' in str(m):\r\n",
        "    n-=1\r\n",
        "  m+=1\r\n",
        "print(m-1)"
      ],
      "execution_count": null,
      "outputs": []
    }
  ]
}