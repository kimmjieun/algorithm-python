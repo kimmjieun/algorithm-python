{
  "nbformat": 4,
  "nbformat_minor": 0,
  "metadata": {
    "colab": {
      "name": "6단계 함수.ipynb",
      "provenance": []
    },
    "kernelspec": {
      "name": "python3",
      "display_name": "Python 3"
    }
  },
  "cells": [
    {
      "cell_type": "code",
      "metadata": {
        "id": "Kybokeq0ef-v"
      },
      "source": [
        "# 15596번 정수 N개의 합\r\n",
        "def solve(a):\r\n",
        "  sum = 0\r\n",
        "  for i in a:\r\n",
        "    sum+=i\r\n",
        "  return sum\r\n",
        "\r\n",
        "\r\n",
        "a = list(map(int,input().split()))\r\n",
        "solve(a)"
      ],
      "execution_count": null,
      "outputs": []
    },
    {
      "cell_type": "code",
      "metadata": {
        "id": "27e-Ys8kelyN"
      },
      "source": [
        "#4673번 셀프넘버\r\n",
        "def d(n):\r\n",
        "  for i in str(n):\r\n",
        "    n+=int(i)\r\n",
        "  return n\r\n",
        "\r\n",
        "numbers = set(range(1,10000))\r\n",
        "\r\n",
        "remove_set = set()\r\n",
        "\r\n",
        "for num in numbers:\r\n",
        "  remove_set.add(d(num))\r\n",
        "\r\n",
        "self_numbers=numbers - remove_set\r\n",
        "\r\n",
        "for self_num in sorted(self_numbers):\r\n",
        "  print(self_num)"
      ],
      "execution_count": null,
      "outputs": []
    },
    {
      "cell_type": "code",
      "metadata": {
        "id": "q1cvzHNwlcPo"
      },
      "source": [
        "#1065번 한수 \r\n",
        "\r\n",
        "num = int(input())\r\n",
        "hansu = 0 \r\n",
        "\r\n",
        "for n in range(1,num+1):\r\n",
        "  if n<=99:\r\n",
        "    hansu+=1\r\n",
        "  else:\r\n",
        "    nums=list(map(int,str(n)))\r\n",
        "    if nums[0]-nums[1]==nums[1]-nums[2]:\r\n",
        "      hansu+=1\r\n",
        "print(hansu)\r\n"
      ],
      "execution_count": null,
      "outputs": []
    },
    {
      "cell_type": "code",
      "metadata": {
        "id": "yd3LFAhJopDp"
      },
      "source": [
        ""
      ],
      "execution_count": null,
      "outputs": []
    }
  ]
}