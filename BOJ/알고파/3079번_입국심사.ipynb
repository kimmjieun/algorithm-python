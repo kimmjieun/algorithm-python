{
  "nbformat": 4,
  "nbformat_minor": 0,
  "metadata": {
    "colab": {
      "name": "3079번 입국심사.ipynb",
      "provenance": []
    },
    "kernelspec": {
      "name": "python3",
      "display_name": "Python 3"
    }
  },
  "cells": [
    {
      "cell_type": "code",
      "metadata": {
        "id": "GMP3KM1NuhA6"
      },
      "source": [
        "import sys\r\n",
        "\r\n",
        "n, m = map(int, sys.stdin.readline().split())\r\n",
        "t = [int(sys.stdin.readline()) for _ in range(n)]\r\n",
        "\r\n",
        "left = min(t)\r\n",
        "answer = right = max(t) * m\r\n",
        "\r\n",
        "while left <= right:\r\n",
        "    total = 0\r\n",
        "    mid = (left + right) // 2\r\n",
        "    for i in range(n):\r\n",
        "        total += mid // t[i]\r\n",
        "    if total >= m:\r\n",
        "        right = mid - 1\r\n",
        "        answer = min(answer, mid)\r\n",
        "    else:\r\n",
        "        left = mid + 1\r\n",
        "print(answer)"
      ],
      "execution_count": null,
      "outputs": []
    }
  ]
}