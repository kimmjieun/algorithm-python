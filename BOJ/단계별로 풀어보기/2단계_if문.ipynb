{
  "nbformat": 4,
  "nbformat_minor": 0,
  "metadata": {
    "colab": {
      "name": "2단계 if문.ipynb",
      "provenance": []
    },
    "kernelspec": {
      "name": "python3",
      "display_name": "Python 3"
    }
  },
  "cells": [
    {
      "cell_type": "code",
      "metadata": {
        "colab": {
          "base_uri": "https://localhost:8080/"
        },
        "id": "7qe1yAV95mTn",
        "outputId": "9797bc8c-9236-400f-cb8f-8da1d86e2467"
      },
      "source": [
        "#1330번 두 수 비교하기\r\n",
        "a,b = map(int,input().split())\r\n",
        "if a > b :\r\n",
        "  print('>')\r\n",
        "elif a == b:\r\n",
        "  print('==')\r\n",
        "else:\r\n",
        "  print('<')"
      ],
      "execution_count": 2,
      "outputs": [
        {
          "output_type": "stream",
          "text": [
            "1 2\n",
            "<\n"
          ],
          "name": "stdout"
        }
      ]
    },
    {
      "cell_type": "code",
      "metadata": {
        "colab": {
          "base_uri": "https://localhost:8080/"
        },
        "id": "PErehNO455Xa",
        "outputId": "9bb2b6b1-fe56-4afc-af03-7b90ae7584ea"
      },
      "source": [
        "#9498번 시험 성적\r\n",
        "score = int(input())\r\n",
        "if score>=90 and score<=100:\r\n",
        "  print('A')\r\n",
        "elif score>=80 and score<=89:\r\n",
        "  print('B')\r\n",
        "elif score>=70 and score<=79:\r\n",
        "  print('C')\r\n",
        "elif score>=60 and score<=69:\r\n",
        "  print('D')\r\n",
        "else:\r\n",
        "  print('F')"
      ],
      "execution_count": 3,
      "outputs": [
        {
          "output_type": "stream",
          "text": [
            "100\n",
            "A\n"
          ],
          "name": "stdout"
        }
      ]
    },
    {
      "cell_type": "code",
      "metadata": {
        "colab": {
          "base_uri": "https://localhost:8080/"
        },
        "id": "4XXgkuto6yu-",
        "outputId": "3a05358e-9cd5-4890-a15d-0779d25419d3"
      },
      "source": [
        "#2753번 윤년\r\n",
        "year = int(input())\r\n",
        "\r\n",
        "if (year%4 == 0 and  year%100 != 0) or ( year%400 == 0  ):\r\n",
        "  print(1)\r\n",
        "else:\r\n",
        "    print(0)"
      ],
      "execution_count": 13,
      "outputs": [
        {
          "output_type": "stream",
          "text": [
            "2000\n",
            "1\n"
          ],
          "name": "stdout"
        }
      ]
    },
    {
      "cell_type": "code",
      "metadata": {
        "colab": {
          "base_uri": "https://localhost:8080/"
        },
        "id": "ECOe1rkB7u67",
        "outputId": "89bf03aa-3b19-41f1-ebdb-fc695e044b35"
      },
      "source": [
        "#14681번 사분면 고르기\r\n",
        "\r\n",
        "x = int(input())\r\n",
        "y = int(input())\r\n",
        "\r\n",
        "if x>0 and y>0:\r\n",
        "  print(1)\r\n",
        "elif x<0 and y>0:\r\n",
        "  print(2)\r\n",
        "elif x<0 and y<0:\r\n",
        "  print(3)\r\n",
        "elif x>0 and y<0:\r\n",
        "  print(4)"
      ],
      "execution_count": 16,
      "outputs": [
        {
          "output_type": "stream",
          "text": [
            "9\n",
            "-13\n",
            "4\n"
          ],
          "name": "stdout"
        }
      ]
    },
    {
      "cell_type": "code",
      "metadata": {
        "colab": {
          "base_uri": "https://localhost:8080/"
        },
        "id": "mQrSJIKU9kf3",
        "outputId": "e88854a0-532e-4ceb-8d18-7bf1659e892b"
      },
      "source": [
        "# 2884번 알람 시계\r\n",
        "# H,M = map(int,input().split())\r\n",
        "\r\n",
        "\r\n",
        "# if M <45:\r\n",
        "#   if H==0:\r\n",
        "#     H=23\r\n",
        "#     M+=60\r\n",
        "#   else:\r\n",
        "#     H-=1\r\n",
        "#     M+=60\r\n",
        "# print(H,M-45)\r\n",
        "\r\n",
        "\r\n",
        "H,M = map(int,input().split())\r\n",
        "\r\n",
        "if M>44:\r\n",
        "  print(H,M-45)\r\n",
        "elif H>=1 and M<45:\r\n",
        "  print(H-1,M+15)\r\n",
        "else:\r\n",
        "  print(23,M+15)"
      ],
      "execution_count": 26,
      "outputs": [
        {
          "output_type": "stream",
          "text": [
            "0 30\n",
            "23 45\n"
          ],
          "name": "stdout"
        }
      ]
    },
    {
      "cell_type": "code",
      "metadata": {
        "id": "iERh-eXSI0Lz"
      },
      "source": [
        ""
      ],
      "execution_count": null,
      "outputs": []
    }
  ]
}