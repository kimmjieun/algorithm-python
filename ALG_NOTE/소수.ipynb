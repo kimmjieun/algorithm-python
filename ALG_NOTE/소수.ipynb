{
  "nbformat": 4,
  "nbformat_minor": 0,
  "metadata": {
    "colab": {
      "name": "소수.ipynb",
      "provenance": []
    },
    "kernelspec": {
      "name": "python3",
      "display_name": "Python 3"
    }
  },
  "cells": [
    {
      "cell_type": "code",
      "metadata": {
        "id": "N3_60hje_nku"
      },
      "source": [
        "def isPrime(a):\r\n",
        "  if a<2:\r\n",
        "    return False\r\n",
        "  else:\r\n",
        "    for i in range(2,a):\r\n",
        "      if a%i==0:\r\n",
        "        return False\r\n",
        "    return True"
      ],
      "execution_count": null,
      "outputs": []
    }
  ]
}