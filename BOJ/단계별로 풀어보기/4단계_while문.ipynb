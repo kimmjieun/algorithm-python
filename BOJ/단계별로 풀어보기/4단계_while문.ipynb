{
  "nbformat": 4,
  "nbformat_minor": 0,
  "metadata": {
    "colab": {
      "name": "3단계 while문.ipynb",
      "provenance": [],
      "collapsed_sections": []
    },
    "kernelspec": {
      "name": "python3",
      "display_name": "Python 3"
    }
  },
  "cells": [
    {
      "cell_type": "code",
      "metadata": {
        "id": "AKBGCWPf0mb3"
      },
      "source": [
        "# 10952번 A+B-5\r\n",
        "\r\n",
        "import sys \r\n",
        "while(1):\r\n",
        "    # a,b = map(int,input().split())\r\n",
        "    a,b = map(int,sys.stdin.readline().split())\r\n",
        "    if a == 0 and b ==0:\r\n",
        "      break\r\n",
        "    print(a+b)\r\n",
        "\r\n",
        "\r\n"
      ],
      "execution_count": null,
      "outputs": []
    },
    {
      "cell_type": "code",
      "metadata": {
        "id": "p2MnQyQk1LjF"
      },
      "source": [
        "# 10951번 A+B-4\r\n",
        "\r\n",
        "import sys \r\n",
        "while True:\r\n",
        "  try:\r\n",
        "\r\n",
        "    # a,b = map(int,input().split())\r\n",
        "    a,b = map(int,sys.stdin.readline().split())\r\n",
        "    print(a+b)\r\n",
        "  except :\r\n",
        "    break"
      ],
      "execution_count": null,
      "outputs": []
    },
    {
      "cell_type": "code",
      "metadata": {
        "id": "l5bWe9Lx4NdZ"
      },
      "source": [
        "# 1110번 더하기 사이클\r\n",
        "\r\n",
        "import sys\r\n",
        "N = input()\r\n",
        "# N = int(sys.stdin.readline())\r\n",
        "\r\n",
        "originN=N\r\n",
        "count=0\r\n",
        "while(1):\r\n",
        "  sum=0\r\n",
        "  for i in N:\r\n",
        "    sum+=int(i)\r\n",
        "  newN=N[-1]+str(sum)[-1]\r\n",
        "  count+=1\r\n",
        "  # print(count)\r\n",
        "  # print(originN,'|',newN)\r\n",
        "  if int(originN)== int(newN):\r\n",
        "    break;\r\n",
        "  else:\r\n",
        "    N=newN\r\n",
        "print(count)\r\n"
      ],
      "execution_count": null,
      "outputs": []
    }
  ]
}