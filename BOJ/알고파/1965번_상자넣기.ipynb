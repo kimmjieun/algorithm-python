{
  "nbformat": 4,
  "nbformat_minor": 0,
  "metadata": {
    "colab": {
      "name": "1965번 상자넣기.ipynb",
      "provenance": []
    },
    "kernelspec": {
      "name": "python3",
      "display_name": "Python 3"
    }
  },
  "cells": [
    {
      "cell_type": "code",
      "metadata": {
        "id": "RHR03uxvEns1"
      },
      "source": [
        "n = int(input())\r\n",
        "\r\n",
        "box = list(map(int,input().split()))\r\n",
        "\r\n",
        "dp=[1 for _ in range(n)]\r\n",
        "\r\n",
        "\r\n",
        "for i in range(1,n):\r\n",
        "  for j in range(i):\r\n",
        "    if box[i]>box[j]:\r\n",
        "      dp[i]=max(dp[i],dp[j]+1)\r\n",
        "\r\n",
        "print(max(dp))\r\n",
        "\r\n"
      ],
      "execution_count": null,
      "outputs": []
    }
  ]
}