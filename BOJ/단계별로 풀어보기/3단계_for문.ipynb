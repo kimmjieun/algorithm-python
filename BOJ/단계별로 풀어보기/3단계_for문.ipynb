{
  "nbformat": 4,
  "nbformat_minor": 0,
  "metadata": {
    "colab": {
      "name": "3단계 for문.ipynb",
      "provenance": []
    },
    "kernelspec": {
      "name": "python3",
      "display_name": "Python 3"
    }
  },
  "cells": [
    {
      "cell_type": "code",
      "metadata": {
        "id": "JxQDStNEcdHz"
      },
      "source": [
        "# 2739번 구구단\r\n",
        "N = int(input())\r\n",
        "for i in range(1,10):\r\n",
        "  print(N,'*',i,'=',N*i)"
      ],
      "execution_count": null,
      "outputs": []
    },
    {
      "cell_type": "code",
      "metadata": {
        "id": "mSvdCICDczNU"
      },
      "source": [
        "#10950번 A+B-3\r\n",
        "T = int(input())\r\n",
        "for i in range(T):\r\n",
        "  a,b=map(int,input().split())\r\n",
        "  print(a+b)"
      ],
      "execution_count": null,
      "outputs": []
    },
    {
      "cell_type": "code",
      "metadata": {
        "id": "-mKcibZJdXio"
      },
      "source": [
        "# 8393번 합\r\n",
        "\r\n",
        "n = int(input())\r\n",
        "\r\n",
        "sum = 0\r\n",
        "for i in range(1,n+1):\r\n",
        "  sum +=i\r\n",
        "print(sum)\r\n"
      ],
      "execution_count": null,
      "outputs": []
    },
    {
      "cell_type": "code",
      "metadata": {
        "id": "-stUsJE5eVbd"
      },
      "source": [
        "#15552번 빠른 A+B\r\n",
        "# 주피터에선 안돌아가는데 정상인가 ?? \r\n",
        "import sys\r\n",
        "T = int(input())\r\n",
        "for i in range(T):\r\n",
        "  a,b=map(int,sys.stdin.readline().split())\r\n",
        "  print(a+b)"
      ],
      "execution_count": null,
      "outputs": []
    },
    {
      "cell_type": "code",
      "metadata": {
        "id": "UR1V6LWRd4Hi"
      },
      "source": [
        "#2741번 N찍기\r\n",
        "n = int(input())\r\n",
        "for i in range(1,n+1):\r\n",
        "  print(i)"
      ],
      "execution_count": null,
      "outputs": []
    },
    {
      "cell_type": "code",
      "metadata": {
        "id": "mc1UJ4-PguGf"
      },
      "source": [
        "# 2742번 기찍 N\r\n",
        "\r\n",
        "# n = int(input())\r\n",
        "# for i in range(n,0,-1):\r\n",
        "#   print(i)\r\n",
        "\r\n",
        "\r\n",
        "import sys\r\n",
        "n = int(sys.stdin.readline())\r\n",
        "for i in range(n,0,-1):\r\n",
        "  print(i)\r\n"
      ],
      "execution_count": null,
      "outputs": []
    },
    {
      "cell_type": "code",
      "metadata": {
        "id": "E1HGjBqTi9hN"
      },
      "source": [
        "# 11021번 A+B-7\r\n",
        "# 출력형식 \r\n",
        "\r\n",
        "import sys\r\n",
        "t = int(input())\r\n",
        "for i in range(t):\r\n",
        "  a,b = map(int,sys.stdin.readline().split())\r\n",
        "  print('Case #%d: %d'%(i+1,a+b))\r\n",
        "\r\n"
      ],
      "execution_count": null,
      "outputs": []
    },
    {
      "cell_type": "code",
      "metadata": {
        "id": "IMo1qSQ-jrD7"
      },
      "source": [
        "#11022번 A+B-8\r\n",
        "\r\n",
        "import sys\r\n",
        "t = int(input())\r\n",
        "for i in range(t):\r\n",
        "  a,b = map(int,sys.stdin.readline().split())\r\n",
        "  print('Case #%d: %d + %d = %d'%(i+1,a,b,a+b))\r\n"
      ],
      "execution_count": null,
      "outputs": []
    },
    {
      "cell_type": "code",
      "metadata": {
        "id": "fFGhweKrneal"
      },
      "source": [
        "#2438번 별 찍기 - 1 \r\n",
        "\r\n",
        "n = int(input())\r\n",
        "for i in range(n):\r\n",
        "  star=i+1\r\n",
        "  for j in range(star):\r\n",
        "    print('*',end='')\r\n",
        "  print()"
      ],
      "execution_count": null,
      "outputs": []
    },
    {
      "cell_type": "code",
      "metadata": {
        "id": "1CY0Qiv1oB-A"
      },
      "source": [
        "# 2439번 별 찍기 - 2\r\n",
        "\r\n",
        "n = int(input())\r\n",
        "for i in range(n):\r\n",
        "  star=i+1\r\n",
        "  blank=n-i-1\r\n",
        "  for k in range(blank):\r\n",
        "    print(' ',end='')\r\n",
        "  for j in range(star):\r\n",
        "    print('*',end='')\r\n",
        "  print()"
      ],
      "execution_count": null,
      "outputs": []
    },
    {
      "cell_type": "code",
      "metadata": {
        "id": "ghDdkV8Joj05"
      },
      "source": [
        "# 10871번 X보다 작은 수 \r\n",
        "\r\n",
        "n,x = map(int,input().split())\r\n",
        "a = list(map(int,input().split()))\r\n",
        "\r\n",
        "for i in range(len(a)):\r\n",
        "  if x>a[i]:\r\n",
        "    print(a[i],end = ' ')\r\n",
        "\r\n"
      ],
      "execution_count": null,
      "outputs": []
    },
    {
      "cell_type": "code",
      "metadata": {
        "id": "5V47bSuSp2bD"
      },
      "source": [
        ""
      ],
      "execution_count": null,
      "outputs": []
    }
  ]
}