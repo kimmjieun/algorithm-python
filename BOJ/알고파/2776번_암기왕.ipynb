{
  "nbformat": 4,
  "nbformat_minor": 0,
  "metadata": {
    "colab": {
      "name": "2776번 암기왕.ipynb",
      "provenance": []
    },
    "kernelspec": {
      "name": "python3",
      "display_name": "Python 3"
    }
  },
  "cells": [
    {
      "cell_type": "code",
      "metadata": {
        "id": "fKS7CLwWsJLw"
      },
      "source": [
        "import sys\r\n",
        "\r\n",
        "# t = int(input())\r\n",
        "t = int(sys.stdin.readline())\r\n",
        "\r\n",
        "for i in range(t):\r\n",
        "  # n = int(input())\r\n",
        "  n = int(sys.stdin.readline())\r\n",
        "  # memo1 = list(map(int,input().split()))\r\n",
        "  memo1 = set(map(int,sys.stdin.readline().split()))\r\n",
        "\r\n",
        "  # m = int(input())\r\n",
        "  m = int(sys.stdin.readline())\r\n",
        "  # memo2 = list(map(int,input().split()))\r\n",
        "  memo2 = list(map(int,sys.stdin.readline().split()))\r\n",
        "\r\n",
        "  for m2 in memo2:\r\n",
        "    if m2 in memo1:\r\n",
        "      print(1)\r\n",
        "    else:\r\n",
        "      print(0)"
      ],
      "execution_count": null,
      "outputs": []
    },
    {
      "cell_type": "code",
      "metadata": {
        "id": "FDX0J2fjue3q"
      },
      "source": [
        ""
      ],
      "execution_count": null,
      "outputs": []
    }
  ]
}