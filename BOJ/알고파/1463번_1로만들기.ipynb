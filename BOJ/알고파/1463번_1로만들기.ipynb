{
  "nbformat": 4,
  "nbformat_minor": 0,
  "metadata": {
    "colab": {
      "name": "1463번 1로만들기.ipynb",
      "provenance": []
    },
    "kernelspec": {
      "name": "python3",
      "display_name": "Python 3"
    }
  },
  "cells": [
    {
      "cell_type": "code",
      "metadata": {
        "id": "i4ROqrMkrBwR"
      },
      "source": [
        "# 1463번 1로 만들기\r\n",
        "\r\n",
        "n = int(input())\r\n",
        "dp = [0 for _ in range(n+1)]\r\n",
        "\r\n",
        "for i in range(2,n+1):\r\n",
        "  dp[i]=dp[i-1]+1\r\n",
        "\r\n",
        "  if i%3 ==0 and  dp[i//3]+1<dp[i]:\r\n",
        "    dp[i]=dp[i//3]+1\r\n",
        "\r\n",
        "  if i%2 ==0 and dp[i//2]+1<dp[i]:\r\n",
        "    dp[i]=dp[i//2]+1\r\n",
        "print(dp[n])\r\n"
      ],
      "execution_count": null,
      "outputs": []
    }
  ]
}