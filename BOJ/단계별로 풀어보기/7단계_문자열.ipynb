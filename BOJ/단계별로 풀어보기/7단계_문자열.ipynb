{
  "nbformat": 4,
  "nbformat_minor": 0,
  "metadata": {
    "colab": {
      "name": "7단계 문자열.ipynb",
      "provenance": []
    },
    "kernelspec": {
      "name": "python3",
      "display_name": "Python 3"
    }
  },
  "cells": [
    {
      "cell_type": "code",
      "metadata": {
        "colab": {
          "base_uri": "https://localhost:8080/"
        },
        "id": "arajcH2wDt4h",
        "outputId": "a1b8aead-f83c-491c-9daf-35898eff87dc"
      },
      "source": [
        "#11654번 아스키코드\r\n",
        "\r\n",
        "n = input()\r\n",
        "\r\n",
        "print(ord(n))\r\n"
      ],
      "execution_count": null,
      "outputs": [
        {
          "output_type": "stream",
          "text": [
            "z\n",
            "122\n"
          ],
          "name": "stdout"
        }
      ]
    },
    {
      "cell_type": "code",
      "metadata": {
        "colab": {
          "base_uri": "https://localhost:8080/"
        },
        "id": "hzMZjhwwE8rS",
        "outputId": "e299764e-40d7-41c7-ea4a-6d51eb07011a"
      },
      "source": [
        "# 11720번 숫자의합\r\n",
        "\r\n",
        "n = int(input())\r\n",
        "num = input()\r\n",
        "sum=0\r\n",
        "for i in num:\r\n",
        "  sum+=int(i)\r\n",
        "print(sum) "
      ],
      "execution_count": null,
      "outputs": [
        {
          "output_type": "stream",
          "text": [
            "11\n",
            "10987654321\n",
            "46\n"
          ],
          "name": "stdout"
        }
      ]
    },
    {
      "cell_type": "code",
      "metadata": {
        "colab": {
          "base_uri": "https://localhost:8080/",
          "height": 136
        },
        "id": "OpA6b6yXFhtA",
        "outputId": "e7f2b87a-1f11-42eb-f019-da79f7d24aa6"
      },
      "source": [
        "# 10809번 알파벳찾기\r\n",
        "\r\n",
        "import string \r\n",
        "\r\n",
        "alpha=string.ascii_lowercase \r\n",
        "\r\n",
        "word = input()\r\n",
        "\r\n",
        "for i in len(word):\r\n",
        "  if alpha.find(word[i]):\r\n",
        "\r\n",
        "  else:\r\n"
      ],
      "execution_count": null,
      "outputs": [
        {
          "output_type": "error",
          "ename": "SyntaxError",
          "evalue": "ignored",
          "traceback": [
            "\u001b[0;36m  File \u001b[0;32m\"<ipython-input-13-6f72e1bdd7cf>\"\u001b[0;36m, line \u001b[0;32m9\u001b[0m\n\u001b[0;31m    for w in len(word):\u001b[0m\n\u001b[0m                       ^\u001b[0m\n\u001b[0;31mSyntaxError\u001b[0m\u001b[0;31m:\u001b[0m unexpected EOF while parsing\n"
          ]
        }
      ]
    },
    {
      "cell_type": "code",
      "metadata": {
        "id": "Q85_Dg1XG--Y"
      },
      "source": [
        "#2675번 문자열반복 \r\n",
        "\r\n",
        "s = input()\r\n"
      ],
      "execution_count": null,
      "outputs": []
    },
    {
      "cell_type": "code",
      "metadata": {
        "colab": {
          "base_uri": "https://localhost:8080/"
        },
        "id": "XeuG4J58Iotd",
        "outputId": "5095a81e-7bc5-411f-d775-b41fdb325363"
      },
      "source": [
        "# 1157번 단어공부\r\n",
        "\r\n"
      ],
      "execution_count": null,
      "outputs": [
        {
          "output_type": "stream",
          "text": [
            "frequency\n",
            "y\n"
          ],
          "name": "stdout"
        }
      ]
    },
    {
      "cell_type": "code",
      "metadata": {
        "id": "0A0R2jlgJEAU"
      },
      "source": [
        ""
      ],
      "execution_count": null,
      "outputs": []
    }
  ]
}