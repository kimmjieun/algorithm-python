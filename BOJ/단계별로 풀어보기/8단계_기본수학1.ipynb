{
  "nbformat": 4,
  "nbformat_minor": 0,
  "metadata": {
    "colab": {
      "name": "8단계 기본수학1.ipynb",
      "provenance": [],
      "collapsed_sections": []
    },
    "kernelspec": {
      "name": "python3",
      "display_name": "Python 3"
    }
  },
  "cells": [
    {
      "cell_type": "code",
      "metadata": {
        "id": "lyShPA0MKUW2"
      },
      "source": [
        "#1712번 손익분기점-런타임에러\r\n",
        "a,b,c=map(int,input().split())\r\n",
        "\r\n",
        "if a/(c-b) <=0:\r\n",
        "  print(-1)\r\n",
        "else:\r\n",
        "  print((a//(c-b))+1)\r\n",
        "\r\n",
        "# 런타임 에러 난 이유 \r\n",
        "# c==b이면 나눗셈에서 문제가 됨 "
      ],
      "execution_count": null,
      "outputs": []
    },
    {
      "cell_type": "code",
      "metadata": {
        "id": "wDIiFSORVE5j"
      },
      "source": [
        "#1712번 손익분기점\r\n",
        "a,b,c=map(int,input().split())\r\n",
        "\r\n",
        "if c-b <=0: \r\n",
        "  print(-1)\r\n",
        "else:\r\n",
        "  print(int(a/(c-b))+1)\r\n",
        "\r\n",
        "# n = ((a+(b*n))/c*n)+1"
      ],
      "execution_count": null,
      "outputs": []
    },
    {
      "cell_type": "code",
      "metadata": {
        "id": "b6khURUNYa3h"
      },
      "source": [
        "#2292번 벌집 - 대충 알것같은데 모르겠다 \r\n",
        "\r\n",
        "n=int(input())\r\n",
        "\r\n",
        "nums_pileup=1\r\n",
        "cnt=1\r\n",
        "while n>nums_pileup:\r\n",
        "  nums_pileup+=6*cnt\r\n",
        "  cnt+=1\r\n",
        "print(cnt)\r\n"
      ],
      "execution_count": null,
      "outputs": []
    },
    {
      "cell_type": "code",
      "metadata": {
        "id": "yj1w0FiqnIuU"
      },
      "source": [
        "#1193번 분수찾기 \r\n",
        "\r\n",
        "input_num = int(input())\r\n",
        "line=0\r\n",
        "max_num=0\r\n",
        "while input_num > max_num:\r\n",
        "  line+=1\r\n",
        "  max_num+=line\r\n",
        "\r\n",
        "gap=max_num-input_num\r\n",
        "if line %2==0:\r\n",
        "  top=line-gap\r\n",
        "  under=gap+1\r\n",
        "else:\r\n",
        "  top=gap+1\r\n",
        "  under=line-gap\r\n",
        "print(f'{top}/{under}')\r\n",
        "\r\n"
      ],
      "execution_count": null,
      "outputs": []
    },
    {
      "cell_type": "code",
      "metadata": {
        "id": "Iypgu1LdPLJA"
      },
      "source": [
        "#2869번 달팽이는 올라가고싶다 \r\n",
        "a,b,v=map(int,input().split())\r\n",
        "\r\n",
        "ls=0\r\n",
        "if (v-b)%(a-b)!=0:\r\n",
        "  ls=((v-b)//(a-b))+1\r\n",
        "else:\r\n",
        "  ls=((v-b)//(a-b))\r\n",
        "print(ls)\r\n",
        "# 달팽이는 하루에 a-b만큼 이동\r\n",
        "#하지만 목표지점에 도달했을때는 미끄러지지않으므로 v-b만큼올라감 "
      ],
      "execution_count": null,
      "outputs": []
    },
    {
      "cell_type": "code",
      "metadata": {
        "id": "zfFxLZxMUWzR"
      },
      "source": [
        "#10250번 acm호텔\r\n",
        "\r\n",
        "t=int(input())\r\n",
        "for _ in range(t):\r\n",
        "  h,w,n=map(int,input().split())\r\n",
        "\r\n",
        "  layer=str(n%h)\r\n",
        "  room=str(n//h+1).zfill(2)\r\n",
        "  print(layer+room)"
      ],
      "execution_count": null,
      "outputs": []
    },
    {
      "cell_type": "code",
      "metadata": {
        "id": "v9ZamtnsQ9cr"
      },
      "source": [
        "#10250번 acm호텔\r\n",
        "\r\n",
        "t=int(input())\r\n",
        "for _ in range(t):\r\n",
        "  h,w,n=map(int,input().split())\r\n",
        "  if n%h==0:\r\n",
        "    layer=str(h)\r\n",
        "    room=str(n//h).zfill(2)\r\n",
        "  else:\r\n",
        "    layer=str(n%h)\r\n",
        "    room=str(n//h+1).zfill(2)\r\n",
        "  print(layer+room)"
      ],
      "execution_count": null,
      "outputs": []
    },
    {
      "cell_type": "code",
      "metadata": {
        "id": "HtObLb0ISbgS"
      },
      "source": [
        "#2775번 부녀회장이 될테야\r\n",
        "\r\n",
        "\r\n",
        "t=int(input())\r\n",
        "for _ in range(t):\r\n",
        "  k=int(input())\r\n",
        "  n=int(input())\r\n",
        "  layer0=[i for i in range(1,n+1)]\r\n",
        "  for i in range(k):\r\n",
        "    for i in range(1,n):\r\n",
        "      layer0[i]+=layer0[i-1]\r\n",
        "  print(layer0[-1])\r\n",
        "\r\n",
        "  \r\n"
      ],
      "execution_count": null,
      "outputs": []
    },
    {
      "cell_type": "code",
      "metadata": {
        "id": "0yawiCdBWuTY"
      },
      "source": [
        "#2839번 설탕배달\r\n",
        "\r\n",
        "sugar =int(input())\r\n",
        "bag=0\r\n",
        "while True:\r\n",
        "  if sugar %5==0:\r\n",
        "    bag+=(sugar//5)\r\n",
        "    print(bag)\r\n",
        "    break\r\n",
        "  sugar-=3\r\n",
        "  bag+=1\r\n",
        "  if sugar<0:\r\n",
        "    print(-1)\r\n",
        "    break"
      ],
      "execution_count": null,
      "outputs": []
    },
    {
      "cell_type": "code",
      "metadata": {
        "id": "MoSVzI0Xx0ZI"
      },
      "source": [
        "#10757번 큰수 A+B\r\n",
        "a,b = map(int,input().split())\r\n",
        "print(a+b)"
      ],
      "execution_count": null,
      "outputs": []
    },
    {
      "cell_type": "code",
      "metadata": {
        "id": "h421LN11yuHl"
      },
      "source": [
        "#1011번 Fly me to the Alpha Centauri \r\n",
        "t = int(input())\r\n",
        "for i in range(t):\r\n",
        "    a, b = map(int, input().split())\r\n",
        "    c = b - a\r\n",
        "    num = 1\r\n",
        "    while True:\r\n",
        "        if num ** 2 <= c < (num + 1) ** 2:\r\n",
        "            break\r\n",
        "        num += 1\r\n",
        "    if num ** 2 == c:\r\n",
        "        print((num * 2) - 1)\r\n",
        "    elif num ** 2 < c <= num ** 2 + num:\r\n",
        "        print(num * 2)\r\n",
        "    else:\r\n",
        "        print((num * 2) + 1)\r\n"
      ],
      "execution_count": null,
      "outputs": []
    }
  ]
}