{
  "nbformat": 4,
  "nbformat_minor": 0,
  "metadata": {
    "colab": {
      "name": "11652번 카드.ipynb",
      "provenance": []
    },
    "kernelspec": {
      "name": "python3",
      "display_name": "Python 3"
    }
  },
  "cells": [
    {
      "cell_type": "code",
      "metadata": {
        "id": "zlmPKfyvyjmj"
      },
      "source": [
        "n = int(input())\r\n",
        "\r\n",
        "dic={}\r\n",
        "for _ in range(n):\r\n",
        "  tmp = int(input())\r\n",
        "  if tmp in dic:\r\n",
        "    dic[tmp]+=1\r\n",
        "  else:\r\n",
        "    dic[tmp]=1\r\n",
        "dic = sorted(dic.items(),key=lambda x:(-x[1], x[0])) \r\n",
        "# 카드개수를 기준으로 먼저 내림차순으로 정렬후 카드개수가 같으면 카드값을 기준으로 오름차순 정렬되게 구현했다\r\n",
        "# x[1]-밸류는 내림차순 x[0] - 키는 오름차순 (-x[1], x[0]) 1순위 밸류 2순위 키 \r\n",
        "\r\n",
        "print(dic[0][0])"
      ],
      "execution_count": null,
      "outputs": []
    }
  ]
}