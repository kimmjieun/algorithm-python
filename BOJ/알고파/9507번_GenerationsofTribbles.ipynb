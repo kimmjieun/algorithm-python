{
  "nbformat": 4,
  "nbformat_minor": 0,
  "metadata": {
    "colab": {
      "name": "9507번 GenerationsofTribbles.ipynb",
      "provenance": []
    },
    "kernelspec": {
      "name": "python3",
      "display_name": "Python 3"
    }
  },
  "cells": [
    {
      "cell_type": "code",
      "metadata": {
        "id": "HUH8__OQrRFZ"
      },
      "source": [
        "# 9507번 Generations of Tribbles\r\n",
        "t = int(input())\r\n",
        "\r\n",
        "for _ in range(t):\r\n",
        "  n=int(input())\r\n",
        "  koong =[0]*(n+1)\r\n",
        "  if n ==0:\r\n",
        "    koong[0]=1\r\n",
        "  elif n==1:\r\n",
        "    koong[1]=1\r\n",
        "  elif n==2:\r\n",
        "    koong[2]=2\r\n",
        "  elif n==3:\r\n",
        "    koong[3]=4\r\n",
        "  else:\r\n",
        "    koong[0]=1\r\n",
        "    koong[1]=1\r\n",
        "    koong[2]=2\r\n",
        "    koong[3]=4\r\n",
        "    for i in range(4,n+1):\r\n",
        "      koong[i]=koong[i-1] + koong[i-2] + koong[i-3] +koong[i-4]\r\n",
        "      \r\n",
        "  print(koong[n])"
      ],
      "execution_count": null,
      "outputs": []
    }
  ]
}