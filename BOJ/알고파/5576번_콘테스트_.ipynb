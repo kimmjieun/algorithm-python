{
  "nbformat": 4,
  "nbformat_minor": 0,
  "metadata": {
    "colab": {
      "name": "5576번 콘테스트 .ipynb",
      "provenance": [],
      "collapsed_sections": []
    },
    "kernelspec": {
      "name": "python3",
      "display_name": "Python 3"
    }
  },
  "cells": [
    {
      "cell_type": "code",
      "metadata": {
        "id": "0ao8w9QjKTMV"
      },
      "source": [
        "list1=[]\r\n",
        "list2=[]\r\n",
        "for i in range(10):\r\n",
        "  list1.append(int(input()))\r\n",
        "\r\n",
        "for i in range(10):\r\n",
        "  list2.append(int(input()))\r\n",
        "\r\n",
        "list1.sort(reverse=True) #내림차순\r\n",
        "list2.sort(reverse=True) #내림차순\r\n",
        "\r\n",
        "print(sum(list1[:3]),sum(list2[:3]))"
      ],
      "execution_count": null,
      "outputs": []
    }
  ]
}