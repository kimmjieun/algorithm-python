{
  "nbformat": 4,
  "nbformat_minor": 0,
  "metadata": {
    "colab": {
      "name": "12865번 평범한 배낭.ipynb",
      "provenance": []
    },
    "kernelspec": {
      "name": "python3",
      "display_name": "Python 3"
    }
  },
  "cells": [
    {
      "cell_type": "code",
      "metadata": {
        "id": "1QqvM40loRMW"
      },
      "source": [
        "N,K = map(int, input().split())\r\n",
        "weight = [0]\r\n",
        "gold =[0]\r\n",
        "for _ in range(N):\r\n",
        "    w, g= map(int, input().split())\r\n",
        "    weight.append(w)\r\n",
        "    gold.append(g)\r\n",
        "    \r\n",
        "\r\n",
        "\r\n",
        "dp=[[0  for i in range(K+1)] for k in range(N+1)]\r\n",
        "for w in range(1, N+1):\r\n",
        "\r\n",
        "    for i in range(1, K+1):\r\n",
        "        if i>= weight[w]:\r\n",
        "                \r\n",
        "                dp[w][i]=max(dp[w-1][i], dp[w-1][i-weight[w]]+gold[w])\r\n",
        "        else:\r\n",
        "            \r\n",
        "                dp[w][i]=dp[w-1][i]\r\n",
        "print(dp[N][K])"
      ],
      "execution_count": null,
      "outputs": []
    }
  ]
}