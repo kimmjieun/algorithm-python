{
  "nbformat": 4,
  "nbformat_minor": 0,
  "metadata": {
    "colab": {
      "name": "13301번 타일장식물.ipynb",
      "provenance": []
    },
    "kernelspec": {
      "name": "python3",
      "display_name": "Python 3"
    }
  },
  "cells": [
    {
      "cell_type": "code",
      "metadata": {
        "id": "-7W6-41JEgz2"
      },
      "source": [
        "n = int(input())\r\n",
        "\r\n",
        "dp = [0]*81\r\n",
        "\r\n",
        "dp[0]=1 \r\n",
        "dp[1]=1 \r\n",
        "\r\n",
        "for i in range(2,n):\r\n",
        "  dp[i] = dp[i-1]+dp[i-2]\r\n",
        "\r\n",
        "r = dp[n-1] + dp[n-1] + dp[n-2]\r\n",
        "\r\n",
        "print( r+r )  "
      ],
      "execution_count": null,
      "outputs": []
    }
  ]
}