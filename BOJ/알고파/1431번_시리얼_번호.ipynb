{
  "nbformat": 4,
  "nbformat_minor": 0,
  "metadata": {
    "colab": {
      "name": "1431번 시리얼 번호.ipynb",
      "provenance": []
    },
    "kernelspec": {
      "name": "python3",
      "display_name": "Python 3"
    }
  },
  "cells": [
    {
      "cell_type": "code",
      "metadata": {
        "id": "NKnqFGqiIl4R"
      },
      "source": [
        "n = int(input())\r\n",
        "guitar=[]\r\n",
        "for _ in range(n):\r\n",
        "  count=0\r\n",
        "  command=input()\r\n",
        "  for c in command:\r\n",
        "    if c.isdigit():\r\n",
        "      count+=int(c)\r\n",
        "  guitar.append((command,count))\r\n",
        "guitar.sort(key=lambda x:(len(x[0]),x[1],x[0]))\r\n",
        "\r\n",
        "for g in guitar:\r\n",
        "  print(g[0])\r\n"
      ],
      "execution_count": null,
      "outputs": []
    }
  ]
}