{
  "nbformat": 4,
  "nbformat_minor": 0,
  "metadata": {
    "colab": {
      "name": "1535번 안녕.ipynb",
      "provenance": []
    },
    "kernelspec": {
      "name": "python3",
      "display_name": "Python 3"
    }
  },
  "cells": [
    {
      "cell_type": "code",
      "metadata": {
        "id": "hLyjIBF2TUyM"
      },
      "source": [
        "#틀림\r\n",
        "n=int(input())\r\n",
        "power=99\r\n",
        "\r\n",
        "L=list(map(int,input().split()))\r\n",
        "J=list(map(int,input().split()))\r\n",
        "knapsack=[[0 for _ in range(power+1)] for _ in range(n+1)]\r\n",
        "\r\n",
        "# print(knapsack)\r\n",
        "for i in range(n):\r\n",
        "  for j in range(power+1):\r\n",
        "    if j<=L[i]:\r\n",
        "\r\n",
        "      # knapsack[i][j]=max(knapsack[i-1][j],knapsack[i-1][j-L[i]]+J[i])\r\n",
        "    else:\r\n",
        "      # knapsack[i][j]=knapsack[i-1][j]\r\n",
        "      knapsack[i][j]=max(knapsack[i-1][j],knapsack[i-1][j-L[i]]+J[i])\r\n",
        "print(knapsack)"
      ],
      "execution_count": null,
      "outputs": []
    },
    {
      "cell_type": "code",
      "metadata": {
        "id": "6Fm6eCZuc2IS"
      },
      "source": [
        " \r\n",
        "n=int(input())\r\n",
        "L = list(map(int, input().split())) # 잃는 체력을 저장하는 리스트\r\n",
        "\r\n",
        "L.insert(0, 0) # 순서의 헷갈림 방지를 위한 0번째 원소에 0 삽입\r\n",
        "\r\n",
        "J = list(map(int, input().split())) # 얻는 기쁨을 저장하는 리스트\r\n",
        "\r\n",
        "J.insert(0, 0)\r\n",
        "\r\n",
        "\r\n",
        "K = [[0 for col in range(101)] for row in range(21)]\r\n",
        "\r\n",
        "\r\n",
        "def knapsack(n, m, weight, price): #knapsack 알고리즘 함수\r\n",
        "    for i in range(1, n+1):\r\n",
        "        for j in range(1, m+1):\r\n",
        "            if weight[i] > j:\r\n",
        "                K[i][j] = K[i-1][j]\r\n",
        "            else:\r\n",
        "                K[i][j] = max(K[i-1][j-weight[i]] + price[i], K[i-1][j])\r\n",
        "                #MAX(현재 보석들의 가치+ 남은 가방 크기 만큼 나머지 보석을 넣을 때 최대 가치, 이전까지 구해둔 보석들의 가치) \r\n",
        "                #처음의 경우엔 MAX(가방에 들어있던 보석(1)을 빼고, 보석(2)을 넣을때의 가치, 이전 보석(1)의 가치)\r\n",
        "    return K[n][m]\r\n",
        "\r\n",
        " \r\n",
        "print(knapsack(n, 99, L, J))"
      ],
      "execution_count": null,
      "outputs": []
    }
  ]
}