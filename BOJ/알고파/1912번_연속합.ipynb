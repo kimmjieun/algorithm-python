{
  "nbformat": 4,
  "nbformat_minor": 0,
  "metadata": {
    "colab": {
      "name": "1912번 연속합.ipynb",
      "provenance": []
    },
    "kernelspec": {
      "name": "python3",
      "display_name": "Python 3"
    }
  },
  "cells": [
    {
      "cell_type": "code",
      "metadata": {
        "id": "5-tcuU7prbED"
      },
      "source": [
        "#1912번 연속합\r\n",
        "\r\n",
        "n = int(input())\r\n",
        "\r\n",
        "arr = list(map(int,input().split()))\r\n",
        "dp = [0 for _ in range(n)]\r\n",
        "dp[0]=arr[0]\r\n",
        "for i in range(1,n):\r\n",
        "  dp[i]=max(dp[i-1]+arr[i],arr[i])\r\n",
        "print(max(dp))"
      ],
      "execution_count": null,
      "outputs": []
    }
  ]
}