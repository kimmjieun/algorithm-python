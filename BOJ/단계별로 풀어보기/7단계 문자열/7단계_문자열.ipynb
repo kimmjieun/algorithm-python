{
  "nbformat": 4,
  "nbformat_minor": 0,
  "metadata": {
    "colab": {
      "name": "7단계 문자열.ipynb",
      "provenance": []
    },
    "kernelspec": {
      "name": "python3",
      "display_name": "Python 3"
    }
  },
  "cells": [
    {
      "cell_type": "code",
      "metadata": {
        "id": "arajcH2wDt4h"
      },
      "source": [
        "#11654번 아스키코드\r\n",
        "\r\n",
        "n = input()\r\n",
        "\r\n",
        "print(ord(n))\r\n"
      ],
      "execution_count": null,
      "outputs": []
    },
    {
      "cell_type": "code",
      "metadata": {
        "id": "hzMZjhwwE8rS"
      },
      "source": [
        "# 11720번 숫자의합\r\n",
        "\r\n",
        "n = int(input())\r\n",
        "num = input()\r\n",
        "sum=0\r\n",
        "for i in num:\r\n",
        "  sum+=int(i)\r\n",
        "print(sum) "
      ],
      "execution_count": null,
      "outputs": []
    },
    {
      "cell_type": "code",
      "metadata": {
        "id": "OpA6b6yXFhtA"
      },
      "source": [
        "# 10809번 알파벳찾기\r\n",
        "\r\n",
        "s = list(map(str,input()))\r\n",
        "\r\n",
        "alpha = list('abcdefghijklmnopqrstuvwxyz')\r\n",
        "\r\n",
        "array = [-1 for i in range(len(alpha))]\r\n",
        "\r\n",
        "for i in range(len(s)):\r\n",
        "  if array[alpha.index(s[i])]==-1:\r\n",
        "    array[alpha.index(s[i])]=i\r\n",
        "for j in array :\r\n",
        "  print(j,end=\" \")"
      ],
      "execution_count": null,
      "outputs": []
    },
    {
      "cell_type": "code",
      "metadata": {
        "id": "Q85_Dg1XG--Y"
      },
      "source": [
        "#2675번 문자열반복 \r\n",
        "\r\n",
        "t = int(input())\r\n",
        "\r\n",
        "for i in range(t):\r\n",
        "  r,s = input().split()\r\n",
        "  r = int(r)\r\n",
        "  for j in s:\r\n",
        "    print(r*j,end=\"\")\r\n",
        "  print() # 이거 안해서 틀림\r\n",
        "\r\n"
      ],
      "execution_count": null,
      "outputs": []
    },
    {
      "cell_type": "code",
      "metadata": {
        "id": "XeuG4J58Iotd"
      },
      "source": [
        "# 1157번 단어공부\r\n",
        "from collections import Counter\r\n",
        "word = input().upper\r\n",
        "\r\n",
        "c=Counter(word)\r\n",
        "c=c.most_common(1)[0]"
      ],
      "execution_count": null,
      "outputs": []
    },
    {
      "cell_type": "code",
      "metadata": {
        "id": "Loni_o0g8d24"
      },
      "source": [
        "# 1157번 단어공부\r\n",
        "word = input().lower()      # word = mississipi / baaa\r\n",
        "word_list = list(set(word)) # word_list = ['m', 'i', 's', 'p'] / ['b', 'a']\r\n",
        "cnt = []\r\n",
        "\r\n",
        "for i in word_list:         # i = m, i, s, p / b, a\r\n",
        "    count = word.count(i)\r\n",
        "    cnt.append(count)       # cnt = [4, 4, 1, 1] / [1, 3]\r\n",
        "\r\n",
        "if cnt.count(max(cnt)) >= 2:\r\n",
        "    print(\"?\")\r\n",
        "else:\r\n",
        "    print(word_list[(cnt.index(max(cnt)))].upper())"
      ],
      "execution_count": null,
      "outputs": []
    },
    {
      "cell_type": "code",
      "metadata": {
        "id": "eKCr7KSL9tFt"
      },
      "source": [
        "#1152번 단어의 개수 \r\n",
        "s=input()\r\n",
        "lst=s.split(\" \")\r\n",
        "print(len(lst))"
      ],
      "execution_count": null,
      "outputs": []
    },
    {
      "cell_type": "code",
      "metadata": {
        "id": "ug65vHT0-Tec"
      },
      "source": [
        "s=input().split()\r\n",
        "print(len(s))"
      ],
      "execution_count": null,
      "outputs": []
    },
    {
      "cell_type": "code",
      "metadata": {
        "id": "v5f2SsP3-1Ae"
      },
      "source": [
        "#2908번 상수\r\n",
        "a,b=input().split()\r\n",
        "\r\n",
        "reversedA=int(a[::-1])\r\n",
        "\r\n",
        "reversedB=int(b[::-1])\r\n",
        "print(max(reversedA,reversedB))"
      ],
      "execution_count": null,
      "outputs": []
    },
    {
      "cell_type": "code",
      "metadata": {
        "id": "UOY7eMFmAeRr"
      },
      "source": [
        "#5622번 다이얼 \r\n",
        "sum=0\r\n",
        "word =input()\r\n",
        "for w in word:\r\n",
        "  if w in ['A','B','C']:\r\n",
        "    sum+=3\r\n",
        "  elif w in ['D','E','F']:\r\n",
        "    sum+=4\r\n",
        "  elif w in ['G','H','I']:\r\n",
        "    sum+=5\r\n",
        "  elif w in ['J','K','L']:\r\n",
        "    sum+=6    \r\n",
        "  elif w in ['M','N','O']:\r\n",
        "    sum+=7\r\n",
        "  elif w in ['P','Q','R','S']:\r\n",
        "    sum+=8    \r\n",
        "  elif w in ['T','U','V']:\r\n",
        "    sum+=9\r\n",
        "  elif w in ['W','X','Y','Z']:\r\n",
        "    sum+=10\r\n",
        "print(sum)"
      ],
      "execution_count": null,
      "outputs": []
    },
    {
      "cell_type": "code",
      "metadata": {
        "id": "Oz8iTBAzDUn5"
      },
      "source": [
        "#2941번 크로아티아 알파벳\r\n",
        "word =input()\r\n",
        "word=word.replace(\"c=\",'a').replace(\"c-\",'a').replace(\"dz=\",'a').replace(\"d-\",'a').replace(\"lj\",'a').replace(\"nj\",'a').replace(\"s=\",'a').replace(\"z=\",'a')\r\n",
        "print(len(word))"
      ],
      "execution_count": null,
      "outputs": []
    },
    {
      "cell_type": "code",
      "metadata": {
        "id": "CyD_Hl3eFJLC"
      },
      "source": [
        "#1316번 그룹단어체커\r\n",
        "n=int(input())\r\n",
        "cnt=0\r\n",
        "for i in range(n):\r\n",
        "  word = input()\r\n",
        "  for j in range(len(word)):\r\n",
        "    if j!=len(word)-1: \r\n",
        "      if word[j]==word[j+1]:\r\n",
        "        pass\r\n",
        "      elif word[j] in word[j+1:]:\r\n",
        "        break\r\n",
        "    else:\r\n",
        "      cnt+=1\r\n",
        "print(cnt)\r\n"
      ],
      "execution_count": null,
      "outputs": []
    }
  ]
}