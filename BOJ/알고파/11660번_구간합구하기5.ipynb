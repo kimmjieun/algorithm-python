{
  "nbformat": 4,
  "nbformat_minor": 0,
  "metadata": {
    "colab": {
      "name": "11660번 구간합구하기5.ipynb",
      "provenance": []
    },
    "kernelspec": {
      "name": "python3",
      "display_name": "Python 3"
    }
  },
  "cells": [
    {
      "cell_type": "code",
      "metadata": {
        "id": "6zRqZ7ODSxYx"
      },
      "source": [
        "import sys\r\n",
        "input = sys.stdin.readline\r\n",
        " \r\n",
        "n, m = map(int, input().split())\r\n",
        "graph = [list(map(int, input().split())) for _ in range(n)]\r\n",
        "dp = [[0] * n for _ in range(n)]\r\n",
        "dp[0][0] = graph[0][0]\r\n",
        "for i in range(1, n):\r\n",
        "    dp[i][0] = graph[i][0] + dp[i - 1][0]\r\n",
        "    dp[0][i] = graph[0][i] + dp[0][i - 1]\r\n",
        " \r\n",
        "for i in range(1, n):\r\n",
        "    for j in range(1, n):\r\n",
        "        dp[i][j] = graph[i][j] + dp[i - 1][j] + dp[i][j - 1] - dp[i - 1][j - 1]\r\n",
        " \r\n",
        "for _ in range(m):\r\n",
        "    x1, y1, x2, y2 = map(int, input().split())\r\n",
        "    dup = dp[x1 - 2][y1 - 2]\r\n",
        "    if x1 - 2 >= 0:\r\n",
        "        upper = dp[x1 - 2][y2 - 1]\r\n",
        "    else:\r\n",
        "        upper = 0\r\n",
        "        dup = 0\r\n",
        "    if y1 - 2 >= 0:\r\n",
        "        left = dp[x2 - 1][y1 - 2]\r\n",
        "    else:\r\n",
        "        left = 0\r\n",
        "        dup = 0\r\n",
        "    print(dp[x2 - 1][y2 - 1] - upper - left + dup)"
      ],
      "execution_count": null,
      "outputs": []
    },
    {
      "cell_type": "code",
      "metadata": {
        "id": "8l9du6BCouRd"
      },
      "source": [
        "https://donghak-dev.tistory.com/79"
      ],
      "execution_count": null,
      "outputs": []
    }
  ]
}