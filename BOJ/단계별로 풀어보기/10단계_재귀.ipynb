{
  "nbformat": 4,
  "nbformat_minor": 0,
  "metadata": {
    "colab": {
      "name": "10단계 재귀.ipynb",
      "provenance": []
    },
    "kernelspec": {
      "name": "python3",
      "display_name": "Python 3"
    }
  },
  "cells": [
    {
      "cell_type": "code",
      "metadata": {
        "id": "a6oZ1OiehSkX"
      },
      "source": [
        "#10872번 팩토리얼\r\n",
        "\r\n",
        "def factorial(n):\r\n",
        "  if n ==0:\r\n",
        "    return 1\r\n",
        "  if n ==1:\r\n",
        "    return 1\r\n",
        "  return n*factorial(n-1)\r\n",
        "\r\n",
        "n = int(input())\r\n",
        "\r\n",
        "print(factorial(n))"
      ],
      "execution_count": null,
      "outputs": []
    },
    {
      "cell_type": "code",
      "metadata": {
        "id": "vdsTAYGNiEt-"
      },
      "source": [
        "#10870번 피보나치수5\r\n",
        "\r\n",
        "def fibo(n):\r\n",
        "  if n ==0:\r\n",
        "    return 0\r\n",
        "  if n ==1:\r\n",
        "    return 1\r\n",
        "  return fibo(n-1)+fibo(n-2)\r\n",
        "\r\n",
        "\r\n",
        "n = int(input())\r\n",
        "\r\n",
        "print(fibo(n))\r\n"
      ],
      "execution_count": null,
      "outputs": []
    },
    {
      "cell_type": "code",
      "metadata": {
        "id": "xhEjnFE1j2RC"
      },
      "source": [
        "#2447번 별찍기 -10\r\n",
        "\r\n",
        "  \r\n",
        "def stars(star_lst):\r\n",
        "    new_star_lst = []\r\n",
        "    for i in range(3 * len(star_lst)):\r\n",
        "        if i // len(star_lst) == 1:\r\n",
        "            new_star_lst.append(star_lst[i % len(star_lst)] + \" \" * len(star_lst) + star_lst[i % len(star_lst)])\r\n",
        "        else:\r\n",
        "            new_star_lst.append(star_lst[i % len(star_lst)] * 3)\r\n",
        "    return list(new_star_lst)\r\n",
        "\r\n",
        "star = [\"***\", \"* *\", '***']\r\n",
        "n = int(input())\r\n",
        "iter = 0\r\n",
        "while n != 3:\r\n",
        "    n = int(n / 3)\r\n",
        "    iter += 1\r\n",
        "\r\n",
        "for i in range(iter):\r\n",
        "    star = stars(star)\r\n",
        "for i in star:\r\n",
        "    print(i)"
      ],
      "execution_count": null,
      "outputs": []
    },
    {
      "cell_type": "code",
      "metadata": {
        "id": "BQ7gDNHQnmsU"
      },
      "source": [
        "#11729번 하노이탑 이동순서 -잘모르겠다 \r\n",
        "\r\n",
        "n = int(input())\r\n",
        "def hanoi(n,a,b,c):\r\n",
        "  if n==1:\r\n",
        "    print(a,c)\r\n",
        "  else:\r\n",
        "    hanoi(n-1,a,c,b)\r\n",
        "    print(a,c)\r\n",
        "    hanoi(n-1,b,a,c)\r\n",
        "sum=1\r\n",
        "for i in range(n-1):\r\n",
        "  sum=sum*2+1\r\n",
        "print(sum)\r\n",
        "hanoi(n,1,2,3)"
      ],
      "execution_count": null,
      "outputs": []
    }
  ]
}