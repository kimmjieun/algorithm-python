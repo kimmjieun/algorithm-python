{
  "nbformat": 4,
  "nbformat_minor": 0,
  "metadata": {
    "colab": {
      "name": "4단계 1차원배열.ipynb",
      "provenance": [],
      "collapsed_sections": []
    },
    "kernelspec": {
      "name": "python3",
      "display_name": "Python 3"
    }
  },
  "cells": [
    {
      "cell_type": "code",
      "metadata": {
        "id": "8ivcNpxZDQ9Y"
      },
      "source": [
        "# 10818번 최소, 최대\r\n",
        "\r\n",
        "import sys\r\n",
        "\r\n",
        "# n = int(input())\r\n",
        "n = int(sys.stdin.readline())\r\n",
        "\r\n",
        "# lists = list(map(int,input().split()))\r\n",
        "lists = list(map(int,sys.stdin.readline().split()))\r\n",
        "\r\n",
        "print('%d %d'%(min(lists),max(lists)))"
      ],
      "execution_count": null,
      "outputs": []
    },
    {
      "cell_type": "code",
      "metadata": {
        "id": "1K1TthgIJDTd"
      },
      "source": [
        "#2562번 최댓값\r\n",
        "\r\n",
        "import sys\r\n",
        "\r\n",
        "lists=[]\r\n",
        "for i in range(9):\r\n",
        "  # n = int(input())\r\n",
        "  n = int(sys.stdin.readline())\r\n",
        "  lists.append(n)\r\n",
        "\r\n",
        "maxN=max(lists)\r\n",
        "print(max(lists))\r\n",
        "for i in range(9):\r\n",
        "  if int(maxN)==int(lists[i]):\r\n",
        "    print(i+1)\r\n",
        "    break \r\n"
      ],
      "execution_count": null,
      "outputs": []
    },
    {
      "cell_type": "code",
      "metadata": {
        "id": "c66xeTe0MtAU"
      },
      "source": [
        "#2577번 숫자의 개수 \r\n",
        "\r\n",
        "\r\n",
        "import sys\r\n",
        "multiply=1\r\n",
        "for i in range(3):\r\n",
        "  # n = int(input())\r\n",
        "  n = int(sys.stdin.readline())\r\n",
        "  multiply*=n\r\n",
        "\r\n",
        "result = [0 for i in range(10)] \r\n",
        "\r\n",
        "for m in str(multiply):\r\n",
        "  m=int(m)\r\n",
        "  if result[m]==0:\r\n",
        "    result[m]=1\r\n",
        "  else:\r\n",
        "    result[m]+=1\r\n",
        "  \r\n",
        "\r\n",
        "for i in result:\r\n",
        "  print(i)\r\n"
      ],
      "execution_count": null,
      "outputs": []
    },
    {
      "cell_type": "code",
      "metadata": {
        "id": "QSOh7JpqOHXM"
      },
      "source": [
        "#3052번 나머지\r\n",
        "import sys\r\n",
        "arr= []\r\n",
        "for i in range(10):\r\n",
        "  n = int(input())\r\n",
        "  # n = int(sys.stdin.readline())\r\n",
        "  arr.append(n)\r\n",
        "\r\n",
        "newArr=[]\r\n",
        "for i in range(10):\r\n",
        "  newArr.append(arr[i]%42)\r\n",
        "\r\n",
        "print(len(list(set(newArr))))\r\n"
      ],
      "execution_count": null,
      "outputs": []
    },
    {
      "cell_type": "code",
      "metadata": {
        "id": "IMw2P8S4Pnvd"
      },
      "source": [
        "#1546번 평균\r\n",
        "\r\n",
        "import sys\r\n",
        "\r\n",
        "# n = int(input())\r\n",
        "n = int(sys.stdin.readline())\r\n",
        "\r\n",
        "# arr = list(map(int,input().split()))\r\n",
        "arr = list(map(int,sys.stdin.readline().split()))\r\n",
        "\r\n",
        "maxScore = max(arr)\r\n",
        "\r\n",
        "newArr=[0 for i in range(n)] \r\n",
        "for i in range(len(newArr)):\r\n",
        "  newArr[i]=arr[i]/maxScore*100\r\n",
        "\r\n",
        "print(sum(newArr)/len(newArr))"
      ],
      "execution_count": null,
      "outputs": []
    },
    {
      "cell_type": "code",
      "metadata": {
        "id": "WxNHdR_zSGwC"
      },
      "source": [
        "#8958번 OX퀴즈\r\n",
        "\r\n",
        "import sys\r\n",
        "\r\n",
        "# n = int(input())\r\n",
        "n = int(sys.stdin.readline())\r\n",
        "\r\n",
        "count=0\r\n",
        "\r\n",
        "for i in range(n):\r\n",
        "  \r\n",
        "  # quiz= input()\r\n",
        "  quiz = sys.stdin.readline()\r\n",
        "\r\n",
        "  score=0\r\n",
        "  totalScore=[]\r\n",
        "  for q in quiz:\r\n",
        "    if q =='O':\r\n",
        "      score+=1\r\n",
        "    else:\r\n",
        "      score=0\r\n",
        "    \r\n",
        "    totalScore.append(score)\r\n",
        "  print(sum(totalScore))\r\n",
        "\r\n",
        "    "
      ],
      "execution_count": null,
      "outputs": []
    },
    {
      "cell_type": "code",
      "metadata": {
        "id": "q-gxQ76mV69X"
      },
      "source": [
        "# 4344번 평균은 넘겠지\r\n",
        "\r\n",
        "\r\n",
        "# import sys\r\n",
        "\r\n",
        "c = int(input())\r\n",
        "# c = int(sys.stdin.readline())\r\n",
        "\r\n",
        "for i in range(c):\r\n",
        "  arr = list(map(int,input().split()))\r\n",
        "  # arr = list(map(int,sys.stdin.readline().split()))  \r\n",
        "  n = arr[0]\r\n",
        "  sum=0\r\n",
        "  for i in range(1,n+1):\r\n",
        "    sum+=arr[i]\r\n",
        "  avg= sum/n\r\n",
        "\r\n",
        "  count = 0\r\n",
        "  for i in range(1,n+1):\r\n",
        "    if arr[i]>avg:\r\n",
        "      count+=1\r\n",
        "  \r\n",
        "  print('%.3f%%'%(round(count/n*100,3)))\r\n"
      ],
      "execution_count": null,
      "outputs": []
    }
  ]
}