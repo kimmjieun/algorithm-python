{
  "nbformat": 4,
  "nbformat_minor": 0,
  "metadata": {
    "colab": {
      "name": "9625번 BABBA.ipynb",
      "provenance": []
    },
    "kernelspec": {
      "name": "python3",
      "display_name": "Python 3"
    }
  },
  "cells": [
    {
      "cell_type": "code",
      "metadata": {
        "id": "Fux4pccoqvfX"
      },
      "source": [
        "#9625번 BABBA\r\n",
        "\r\n",
        "k = int(input())\r\n",
        "fib =[0]*(k+1)\r\n",
        "fib[1]=1\r\n",
        "for i in range(2,k+1):\r\n",
        "  fib[i]=fib[i-1]+fib[i-2]\r\n",
        "print(fib[k-1],fib[k])\r\n",
        "\r\n"
      ],
      "execution_count": null,
      "outputs": []
    }
  ]
}